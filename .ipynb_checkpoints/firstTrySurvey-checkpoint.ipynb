{
 "cells": [
  {
   "cell_type": "code",
   "execution_count": 1,
   "id": "967981fb",
   "metadata": {},
   "outputs": [],
   "source": [
    "import pandas as pd\n",
    "import matplotlib\n",
    "import pyreadstat"
   ]
  },
  {
   "cell_type": "code",
   "execution_count": 2,
   "id": "dc704ca0",
   "metadata": {},
   "outputs": [],
   "source": [
    "file = './ATPW72.sav'"
   ]
  },
  {
   "cell_type": "code",
   "execution_count": 3,
   "id": "52fc70a6",
   "metadata": {},
   "outputs": [
    {
     "name": "stdout",
     "output_type": "stream",
     "text": [
      "               QKEY INTERVIEW_START_W72   INTERVIEW_END_W72 DEVICE_TYPE_W72  \\\n",
      "0      1.001970e+05 2020-08-07 16:46:08 2020-08-07 16:58:29          Tablet   \n",
      "1      1.002600e+05 2020-08-06 01:19:51 2020-08-06 01:34:12          Tablet   \n",
      "2      1.003140e+05 2020-08-04 23:21:45 2020-08-04 23:36:41      Smartphone   \n",
      "3      1.003630e+05 2020-08-05 00:42:24 2020-08-05 00:49:59      Smartphone   \n",
      "4      1.004460e+05 2020-08-05 10:41:54 2020-08-05 10:49:04       Laptop/PC   \n",
      "...             ...                 ...                 ...             ...   \n",
      "13195  2.020010e+11 2020-08-15 02:51:59 2020-08-15 03:08:35       Laptop/PC   \n",
      "13196  2.020010e+11 2020-08-10 20:15:57 2020-08-12 21:28:43       Laptop/PC   \n",
      "13197  2.020010e+11 2020-08-14 15:52:50 2020-08-14 15:58:57      Smartphone   \n",
      "13198  2.020010e+11 2020-08-04 21:51:49 2020-08-04 21:55:50       Laptop/PC   \n",
      "13199  2.020010e+11 2020-08-07 18:22:51 2020-08-07 18:31:29      Smartphone   \n",
      "\n",
      "      LANG_W72                  COVIDERA_W72  \\\n",
      "0      English   Basically go back to normal   \n",
      "1      English   Basically go back to normal   \n",
      "2      English  Remain changed in major ways   \n",
      "3      English   Basically go back to normal   \n",
      "4      English   Basically go back to normal   \n",
      "...        ...                           ...   \n",
      "13195  English   Basically go back to normal   \n",
      "13196  English  Remain changed in major ways   \n",
      "13197  English   Basically go back to normal   \n",
      "13198  English  Remain changed in major ways   \n",
      "13199  English  Remain changed in major ways   \n",
      "\n",
      "                              FINANCES_a_W72  \\\n",
      "0      No, have not done this since February   \n",
      "1      No, have not done this since February   \n",
      "2      No, have not done this since February   \n",
      "3      No, have not done this since February   \n",
      "4      No, have not done this since February   \n",
      "...                                      ...   \n",
      "13195  No, have not done this since February   \n",
      "13196  No, have not done this since February   \n",
      "13197     Yes, have done this since February   \n",
      "13198  No, have not done this since February   \n",
      "13199  No, have not done this since February   \n",
      "\n",
      "                              FINANCES_b_W72  \\\n",
      "0      No, have not done this since February   \n",
      "1      No, have not done this since February   \n",
      "2      No, have not done this since February   \n",
      "3      No, have not done this since February   \n",
      "4      No, have not done this since February   \n",
      "...                                      ...   \n",
      "13195  No, have not done this since February   \n",
      "13196  No, have not done this since February   \n",
      "13197     Yes, have done this since February   \n",
      "13198  No, have not done this since February   \n",
      "13199  No, have not done this since February   \n",
      "\n",
      "                              FINANCES_c_W72  \\\n",
      "0      No, have not done this since February   \n",
      "1      No, have not done this since February   \n",
      "2      No, have not done this since February   \n",
      "3      No, have not done this since February   \n",
      "4      No, have not done this since February   \n",
      "...                                      ...   \n",
      "13195  No, have not done this since February   \n",
      "13196  No, have not done this since February   \n",
      "13197     Yes, have done this since February   \n",
      "13198  No, have not done this since February   \n",
      "13199  No, have not done this since February   \n",
      "\n",
      "                              FINANCES_d_W72  ...   F_PARTY_FINAL  \\\n",
      "0      No, have not done this since February  ...        Democrat   \n",
      "1      No, have not done this since February  ...      Republican   \n",
      "2      No, have not done this since February  ...      Republican   \n",
      "3      No, have not done this since February  ...        Democrat   \n",
      "4      No, have not done this since February  ...        Democrat   \n",
      "...                                      ...  ...             ...   \n",
      "13195  No, have not done this since February  ...      Republican   \n",
      "13196  No, have not done this since February  ...  Something else   \n",
      "13197  No, have not done this since February  ...      Republican   \n",
      "13198  No, have not done this since February  ...        Democrat   \n",
      "13199  No, have not done this since February  ...      Republican   \n",
      "\n",
      "            F_PARTYLN_FINAL F_PARTYSUM_FINAL                  F_PARTYSUMIDEO  \\\n",
      "0                       NaN     Dem/Lean Dem  Moderate/Conservative Dem/Lean   \n",
      "1                       NaN     Rep/Lean Rep           Conservative Rep/Lean   \n",
      "2                       NaN     Rep/Lean Rep       Moderate/Liberal Rep/Lean   \n",
      "3                       NaN     Dem/Lean Dem  Moderate/Conservative Dem/Lean   \n",
      "4                       NaN     Dem/Lean Dem                Liberal Dem/Lean   \n",
      "...                     ...              ...                             ...   \n",
      "13195                   NaN     Rep/Lean Rep       Moderate/Liberal Rep/Lean   \n",
      "13196  The Democratic Party     Dem/Lean Dem                Liberal Dem/Lean   \n",
      "13197                   NaN     Rep/Lean Rep       Moderate/Liberal Rep/Lean   \n",
      "13198                   NaN     Dem/Lean Dem                Liberal Dem/Lean   \n",
      "13199                   NaN     Rep/Lean Rep           Conservative Rep/Lean   \n",
      "\n",
      "                          F_INC_SDT1  \\\n",
      "0                  Less than $30,000   \n",
      "1       $50,000 to less than $60,000   \n",
      "2       $30,000 to less than $40,000   \n",
      "3                   $100,000 or more   \n",
      "4      $90,000 to less than $100,000   \n",
      "...                              ...   \n",
      "13195               $100,000 or more   \n",
      "13196   $30,000 to less than $40,000   \n",
      "13197   $60,000 to less than $70,000   \n",
      "13198               $100,000 or more   \n",
      "13199   $80,000 to less than $90,000   \n",
      "\n",
      "                                                   F_REG             F_IDEO  \\\n",
      "0      You are ABSOLUTELY CERTAIN that you are regist...           Moderate   \n",
      "1      You are ABSOLUTELY CERTAIN that you are regist...  Very conservative   \n",
      "2      You are ABSOLUTELY CERTAIN that you are regist...           Moderate   \n",
      "3      You are ABSOLUTELY CERTAIN that you are regist...           Moderate   \n",
      "4      You are ABSOLUTELY CERTAIN that you are regist...            Liberal   \n",
      "...                                                  ...                ...   \n",
      "13195  You are ABSOLUTELY CERTAIN that you are regist...           Moderate   \n",
      "13196  You are NOT registered to vote at your current...            Liberal   \n",
      "13197  You are ABSOLUTELY CERTAIN that you are regist...           Moderate   \n",
      "13198  You are ABSOLUTELY CERTAIN that you are regist...       Very liberal   \n",
      "13199  You are NOT registered to vote at your current...       Conservative   \n",
      "\n",
      "                 F_INTFREQ F_VOLSUM WEIGHT_W72  \n",
      "0         About once a day      Yes   0.300316  \n",
      "1      Several times a day       No   0.198368  \n",
      "2         About once a day      Yes   0.443584  \n",
      "3      Several times a day       No   0.670080  \n",
      "4      Several times a day      Yes   0.188338  \n",
      "...                    ...      ...        ...  \n",
      "13195    Almost constantly      Yes   0.322626  \n",
      "13196  Several times a day       No   1.610502  \n",
      "13197    Almost constantly       No   0.373383  \n",
      "13198    Almost constantly      Yes   0.393961  \n",
      "13199    Almost constantly      Yes   1.098532  \n",
      "\n",
      "[13200 rows x 62 columns]\n"
     ]
    }
   ],
   "source": [
    "df = pd.read_spss(file)\n",
    "print(df)"
   ]
  },
  {
   "cell_type": "code",
   "execution_count": 4,
   "id": "8ecff335",
   "metadata": {},
   "outputs": [
    {
     "name": "stdout",
     "output_type": "stream",
     "text": [
      "['QKEY', 'INTERVIEW_START_W72', 'INTERVIEW_END_W72', 'DEVICE_TYPE_W72', 'LANG_W72', 'COVIDERA_W72', 'FINANCES_a_W72', 'FINANCES_b_W72', 'FINANCES_c_W72', 'FINANCES_d_W72', 'FINANCES_e_W72', 'FINANCES_f_W72', 'FINANCES_g_W72', 'FINANCES_h_W72', 'FINANCES_i_W72', 'SAVINGS_W72', 'E3_W72', 'COVIDMASK1_W72', 'COVID_SELF_b_W72', 'COVID_SELF_c_W72', 'COVID_SELF_e_W72', 'RATEOWNCOVID_W72', 'COVID_HHMATE_b_W72', 'COVID_HHMATE_c_W72', 'COVID_HHMATE_d_W72', 'RATEHHMATECOVID_W72', 'COVIDWORKR_a_W72', 'COVIDWORKR_b_W72', 'COVIDWORKO_a_W72', 'COVIDWORKO_b_W72', 'POSTCOVIDJOBR2_W72', 'POSTCOVIDPAYR_W72', 'NEWSFINCORP_W72', 'F_METRO', 'F_CREGION', 'F_CDIVISION', 'F_AGECAT', 'F_GENDER', 'F_EDUCCAT', 'F_EDUCCAT2', 'F_HISP', 'F_HISP_ORIGIN', 'F_YEARSINUS', 'F_RACECMB', 'F_RACETHNMOD', 'F_CITIZEN', 'F_BIRTHPLACE2', 'F_MARITAL', 'F_RELIG', 'F_BORN', 'F_RELIGCAT1', 'F_ATTEND', 'F_PARTY_FINAL', 'F_PARTYLN_FINAL', 'F_PARTYSUM_FINAL', 'F_PARTYSUMIDEO', 'F_INC_SDT1', 'F_REG', 'F_IDEO', 'F_INTFREQ', 'F_VOLSUM', 'WEIGHT_W72']\n"
     ]
    }
   ],
   "source": [
    "print(list(df))"
   ]
  },
  {
   "cell_type": "code",
   "execution_count": 5,
   "id": "b1baf57a",
   "metadata": {},
   "outputs": [
    {
     "name": "stdout",
     "output_type": "stream",
     "text": [
      "  Is news influenced a great deal by corporations?  freq\n",
      "1                                     A great deal  4887\n",
      "3                                       Not at all   416\n",
      "2                                    Not very much  2013\n",
      "4                                          Refused    80\n",
      "0                                         Somewhat  5804\n"
     ]
    }
   ],
   "source": [
    "col = 'NEWSFINCORP_W72' #<-edit this value! column name as it appears in dataframe\n",
    "col_name = 'Is news influenced a great deal by corporations?' #<-edit this value! descriptive name for column\n",
    "freq = df[col].value_counts().rename_axis(col_name).reset_index(name='freq')\n",
    "freq = freq.sort_values(by = col_name)\n",
    "print(freq)"
   ]
  },
  {
   "cell_type": "code",
   "execution_count": 6,
   "id": "c6c94a8f",
   "metadata": {},
   "outputs": [
    {
     "data": {
      "text/plain": [
       "F_PARTYLN_FINAL                    \n",
       "Refused               A great deal     0.372832\n",
       "                      Somewhat         0.372832\n",
       "                      Not very much    0.115607\n",
       "                      Not at all       0.092486\n",
       "                      Refused          0.046243\n",
       "The Democratic Party  Somewhat         0.449293\n",
       "                      A great deal     0.347880\n",
       "                      Not very much    0.157107\n",
       "                      Not at all       0.039900\n",
       "                      Refused          0.005819\n",
       "The Republican Party  A great deal     0.516567\n",
       "                      Somewhat         0.343292\n",
       "                      Not very much    0.101575\n",
       "                      Not at all       0.034221\n",
       "                      Refused          0.004345\n",
       "Name: NEWSFINCORP_W72, dtype: float64"
      ]
     },
     "execution_count": 6,
     "metadata": {},
     "output_type": "execute_result"
    }
   ],
   "source": [
    "df.groupby('F_PARTYLN_FINAL')[col].value_counts(normalize=True)"
   ]
  },
  {
   "cell_type": "code",
   "execution_count": 7,
   "id": "96f50ee2",
   "metadata": {},
   "outputs": [
    {
     "name": "stdout",
     "output_type": "stream",
     "text": [
      "  Have you worn a mask when in stores or other businesses?   freq\n",
      "0                            All or most of the time        11700\n",
      "2                                        Hardly ever          272\n",
      "3             Have not gone to these types of places          163\n",
      "4                                              Never          102\n",
      "5                                            Refused           13\n",
      "1                                   Some of the time          950\n"
     ]
    }
   ],
   "source": [
    "col = 'COVIDMASK1_W72' \n",
    "col_name = 'Have you worn a mask when in stores or other businesses?'\n",
    "freq = df[col].value_counts().rename_axis(col_name).reset_index(name='freq')\n",
    "freq = freq.sort_values(by = col_name)\n",
    "print(freq)"
   ]
  },
  {
   "cell_type": "code",
   "execution_count": 8,
   "id": "f66a5190",
   "metadata": {},
   "outputs": [
    {
     "data": {
      "text/plain": [
       "F_PARTYLN_FINAL                                             \n",
       "Refused               All or most of the time                   0.890173\n",
       "                      Some of the time                          0.057803\n",
       "                      Hardly ever                               0.026012\n",
       "                      Have not gone to these types of places    0.014451\n",
       "                      Refused                                   0.008671\n",
       "                      Never                                     0.002890\n",
       "The Democratic Party  All or most of the time                   0.937240\n",
       "                      Some of the time                          0.032835\n",
       "                      Have not gone to these types of places    0.015794\n",
       "                      Never                                     0.007066\n",
       "                      Hardly ever                               0.006650\n",
       "                      Refused                                   0.000416\n",
       "The Republican Party  All or most of the time                   0.809886\n",
       "                      Some of the time                          0.118414\n",
       "                      Hardly ever                               0.038023\n",
       "                      Never                                     0.021727\n",
       "                      Have not gone to these types of places    0.011407\n",
       "                      Refused                                   0.000543\n",
       "Name: COVIDMASK1_W72, dtype: float64"
      ]
     },
     "execution_count": 8,
     "metadata": {},
     "output_type": "execute_result"
    }
   ],
   "source": [
    "df.groupby('F_PARTYLN_FINAL')[col].value_counts(normalize=True)"
   ]
  },
  {
   "cell_type": "code",
   "execution_count": 9,
   "id": "3152974c",
   "metadata": {},
   "outputs": [
    {
     "name": "stdout",
     "output_type": "stream",
     "text": [
      "  Since the covid 19 have you been able to pay for medical bills   freq\n",
      "0              No, have not done this since February              11992\n",
      "2                                            Refused                 86\n",
      "1                 Yes, have done this since February               1122\n"
     ]
    }
   ],
   "source": [
    "col = 'FINANCES_a_W72' \n",
    "col_name = 'Since the covid 19 have you been able to pay for medical bills'\n",
    "freq = df[col].value_counts().rename_axis(col_name).reset_index(name='freq')\n",
    "freq = freq.sort_values(by = col_name)\n",
    "print(freq)"
   ]
  },
  {
   "cell_type": "code",
   "execution_count": 10,
   "id": "9e1e7821",
   "metadata": {},
   "outputs": [
    {
     "data": {
      "text/plain": [
       "F_PARTYLN_FINAL                                            \n",
       "Refused               No, have not done this since February    0.812139\n",
       "                      Yes, have done this since February       0.138728\n",
       "                      Refused                                  0.049133\n",
       "The Democratic Party  No, have not done this since February    0.892768\n",
       "                      Yes, have done this since February       0.102660\n",
       "                      Refused                                  0.004572\n",
       "The Republican Party  No, have not done this since February    0.894622\n",
       "                      Yes, have done this since February       0.097230\n",
       "                      Refused                                  0.008148\n",
       "Name: FINANCES_a_W72, dtype: float64"
      ]
     },
     "execution_count": 10,
     "metadata": {},
     "output_type": "execute_result"
    }
   ],
   "source": [
    "df.groupby('F_PARTYLN_FINAL')[col].value_counts(normalize=True)"
   ]
  },
  {
   "cell_type": "code",
   "execution_count": 11,
   "id": "46e8283a",
   "metadata": {},
   "outputs": [
    {
     "data": {
      "image/png": "[encoded data removed]",
      "text/plain": [
       "<Figure size 432x288 with 1 Axes>"
      ]
     },
     "metadata": {
      "needs_background": "light"
     },
     "output_type": "display_data"
    }
   ],
   "source": [
    "ax = freq.plot.barh(x=col_name, y='freq', rot=0) \n",
    "#This histogram is something new I learned in the book from the sections on bar graphs."
   ]
  },
  {
   "cell_type": "code",
   "execution_count": 12,
   "id": "a7fb86d9",
   "metadata": {},
   "outputs": [
    {
     "name": "stdout",
     "output_type": "stream",
     "text": [
      "F_PARTYLN_FINAL                                                            \n",
      "Refused               Born in US (not including unincorporated territories)     257\n",
      "                      21+ years                                                  35\n",
      "                      0-10 years                                                 26\n",
      "                      11-20 years                                                20\n",
      "                      DK/Ref                                                      8\n",
      "The Democratic Party  Born in US (not including unincorporated territories)    1999\n",
      "                      21+ years                                                 182\n",
      "                      0-10 years                                                113\n",
      "                      11-20 years                                               104\n",
      "                      DK/Ref                                                      8\n",
      "The Republican Party  Born in US (not including unincorporated territories)    1605\n",
      "                      21+ years                                                 109\n",
      "                      0-10 years                                                 72\n",
      "                      11-20 years                                                48\n",
      "                      DK/Ref                                                      7\n",
      "Name: F_YEARSINUS, dtype: int64\n"
     ]
    }
   ],
   "source": [
    "col = 'F_YEARSINUS' \n",
    "col_name = 'How many years have you lived in us'\n",
    "freq=df.groupby('F_PARTYLN_FINAL')[col].value_counts()\n",
    "print(freq)"
   ]
  },
  {
   "cell_type": "code",
   "execution_count": null,
   "id": "c3a3528b",
   "metadata": {},
   "outputs": [],
   "source": []
  },
  {
   "cell_type": "markdown",
   "id": "6d782566",
   "metadata": {},
   "source": [
    "I needed to show making a mean of a column but this dataset is oddly non-quantatative. Ill calculate the mean age for people born outside of the united states for people who have lived here for less the 20 years by turning the two definite ranges to their expected values, which means getting rid of everyone who was here for more than 21 years."
   ]
  },
  {
   "cell_type": "code",
   "execution_count": 13,
   "id": "6b441183",
   "metadata": {},
   "outputs": [
    {
     "data": {
      "text/plain": [
       "F_PARTYLN_FINAL\n",
       "Refused                 9.347826\n",
       "The Democratic Party    9.792627\n",
       "The Republican Party    9.000000\n",
       "Name: F_YEARSINUS, dtype: float64"
      ]
     },
     "execution_count": 13,
     "metadata": {},
     "output_type": "execute_result"
    }
   ],
   "source": [
    "newDf=df\n",
    "codebook = [['Born in US (not including unincorporated territories)', -1], #<- if appropriate, replace these values based on codebook or data dictionary for your dataset\n",
    "            ['DK/Ref', -1], \n",
    "            ['11-20 years',15], \n",
    "            ['0-10 years', 5], \n",
    "            ['21+ years', -1]]\n",
    "\n",
    "#loops through label codes and replaces them in frequency table\n",
    "for lbl in codebook:\n",
    "    newDf[col] = newDf[col].replace(lbl[0], lbl[1])\n",
    "\n",
    "for lbl in codebook:\n",
    "     newDf[col] = newDf[col].astype(float)\n",
    "    \n",
    "    \n",
    "newDf.loc[newDf[col]!=-1].groupby('F_PARTYLN_FINAL')[col].mean()"
   ]
  },
  {
   "cell_type": "code",
   "execution_count": null,
   "id": "afcd0886",
   "metadata": {},
   "outputs": [],
   "source": []
  },
  {
   "cell_type": "code",
   "execution_count": null,
   "id": "f167de2a",
   "metadata": {},
   "outputs": [],
   "source": []
  },
  {
   "cell_type": "code",
   "execution_count": null,
   "id": "70fba71c",
   "metadata": {},
   "outputs": [],
   "source": []
  },
  {
   "cell_type": "code",
   "execution_count": null,
   "id": "9e8c0663",
   "metadata": {},
   "outputs": [],
   "source": []
  }
 ],
 "metadata": {
  "kernelspec": {
   "display_name": "Python 3 (ipykernel)",
   "language": "python",
   "name": "python3"
  },
  "language_info": {
   "codemirror_mode": {
    "name": "ipython",
    "version": 3
   },
   "file_extension": ".py",
   "mimetype": "text/x-python",
   "name": "python",
   "nbconvert_exporter": "python",
   "pygments_lexer": "ipython3",
   "version": "3.9.12"
  }
 },
 "nbformat": 4,
 "nbformat_minor": 5
}
